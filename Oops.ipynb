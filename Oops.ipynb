{
  "nbformat": 4,
  "nbformat_minor": 0,
  "metadata": {
    "colab": {
      "provenance": [],
      "authorship_tag": "ABX9TyPVsCvPDGc+TBScagg52b5B",
      "include_colab_link": true
    },
    "kernelspec": {
      "name": "python3",
      "display_name": "Python 3"
    },
    "language_info": {
      "name": "python"
    }
  },
  "cells": [
    {
      "cell_type": "markdown",
      "metadata": {
        "id": "view-in-github",
        "colab_type": "text"
      },
      "source": [
        "<a href=\"https://colab.research.google.com/github/Vasanth03/Python-OOPS/blob/main/Oops.ipynb\" target=\"_parent\"><img src=\"https://colab.research.google.com/assets/colab-badge.svg\" alt=\"Open In Colab\"/></a>"
      ]
    },
    {
      "cell_type": "markdown",
      "source": [
        "Oops :\n",
        "Class : \n",
        "Objects : "
      ],
      "metadata": {
        "id": "ttLz3RDDLe3R"
      }
    },
    {
      "cell_type": "code",
      "source": [
        "class Item:\n",
        "  def product (self,x,y):\n",
        "    return x*y\n",
        "\n",
        "Item1 = Item()\n",
        "Item1.name = 'Phone'\n",
        "Item1.price = 1000\n",
        "Item1.quantity = 5\n",
        "print('Total price of all the phones',Item1.product(Item1.price,Item1.quantity))\n",
        "\n",
        "Item2 = Item()\n",
        "Item2.name = 'Airpods'\n",
        "Item2.price = 200\n",
        "Item2.quantity = 20\n",
        "print('Total price of all the airpods',Item2.product(Item2.price,Item2.quantity))"
      ],
      "metadata": {
        "colab": {
          "base_uri": "https://localhost:8080/"
        },
        "id": "PnNEPUFd5tIz",
        "outputId": "630e0791-a5b3-4a1b-8e80-7bccb550a10e"
      },
      "execution_count": 7,
      "outputs": [
        {
          "output_type": "stream",
          "name": "stdout",
          "text": [
            "Total price of all the phones 5000\n",
            "Total price of all the airpods 4000\n"
          ]
        }
      ]
    },
    {
      "cell_type": "code",
      "source": [],
      "metadata": {
        "id": "DFlepDXrLsUP"
      },
      "execution_count": null,
      "outputs": []
    },
    {
      "cell_type": "markdown",
      "source": [
        "Using Magic Method  _ _int _ _ , Constructor "
      ],
      "metadata": {
        "id": "ZCNgwKpbEtbU"
      }
    },
    {
      "cell_type": "code",
      "source": [
        "class Item:\n",
        "  def __init__ (self,name,price,quantity):\n",
        "    self.name     = name\n",
        "    self.price    = price\n",
        "    self.quantity = quantity\n",
        "  def product (self):\n",
        "    return (self.price * self.quantity)\n",
        "\n",
        "Item1 = Item(\"Laptop\",3500,20)\n",
        "print('Total price of all the laptops',Item1.product())\n",
        "\n",
        "Item2 = Item(\"Speaker\",500,15)\n",
        "print('Total price of all the speakers',Item2.product())"
      ],
      "metadata": {
        "colab": {
          "base_uri": "https://localhost:8080/"
        },
        "id": "XXOz3sRVE1AW",
        "outputId": "41062536-c940-41dc-a947-79ded3af0381"
      },
      "execution_count": 20,
      "outputs": [
        {
          "output_type": "stream",
          "name": "stdout",
          "text": [
            "Total price of all the laptops 70000\n",
            "Total price of all the speakers 7500\n"
          ]
        }
      ]
    },
    {
      "cell_type": "markdown",
      "source": [
        "Modification to passing parameters\n"
      ],
      "metadata": {
        "id": "M7ETe5eAJE5a"
      }
    },
    {
      "cell_type": "code",
      "source": [
        "class Item:\n",
        "  def __init__ (self, name: str, price: int, quantity=2):\n",
        "    # Run Validations to the received arguments\n",
        "     assert price >0,   f\"price {price} not greater than zero!\"\n",
        "     assert quantity >0,  f\"quantity {quantity} not greater than zero!\"\n",
        "    # Assign to self objects\n",
        "     self.name     = name\n",
        "     self.price    = price\n",
        "     self.quantity = quantity\n",
        "  def product (self):\n",
        "    return (self.price * self.quantity)\n",
        "\n",
        "Item1 = Item(\"Laptop\",3500)\n",
        "print('Total price of all the laptops',Item1.product())\n",
        "\n",
        "Item2 = Item(\"Speaker\",500)\n",
        "print('Total price of all the speakers',Item2.product())"
      ],
      "metadata": {
        "colab": {
          "base_uri": "https://localhost:8080/"
        },
        "id": "IdThrzkAJIsl",
        "outputId": "920c190a-23ea-47b5-e2bd-6ee2926df57c"
      },
      "execution_count": 32,
      "outputs": [
        {
          "output_type": "stream",
          "name": "stdout",
          "text": [
            "Total price of all the laptops 7000\n",
            "Total price of all the speakers 1000\n"
          ]
        }
      ]
    },
    {
      "cell_type": "markdown",
      "source": [
        "Class Atribute, _ _ dict _ _ - Magic attribute"
      ],
      "metadata": {
        "id": "n3hQtpQATk97"
      }
    },
    {
      "cell_type": "code",
      "source": [
        "class Item:\n",
        "  pay_rate = 0.8\n",
        "  def product (self,x,y):\n",
        "    return x*y\n",
        "Item1 = Item()\n",
        "Item1.name = 'Phone'\n",
        "Item1.price = 1000\n",
        "Item1.quantity = 5\n",
        "print('Total price of all the phones',Item1.product(Item1.price,Item1.quantity))\n",
        "Item.pay_rate \n",
        "print(Item.__dict__) # Displays all the attributes at class level\n",
        "print(Item1.__dict__)\n"
      ],
      "metadata": {
        "colab": {
          "base_uri": "https://localhost:8080/"
        },
        "id": "tI7TxbvgToCB",
        "outputId": "4656f1c5-7179-4c4c-f1fb-3ef374886ef6"
      },
      "execution_count": 49,
      "outputs": [
        {
          "output_type": "stream",
          "name": "stdout",
          "text": [
            "Total price of all the phones 5000\n",
            "{'__module__': '__main__', 'pay_rate': 0.8, 'product': <function Item.product at 0x7f198d3563a0>, '__dict__': <attribute '__dict__' of 'Item' objects>, '__weakref__': <attribute '__weakref__' of 'Item' objects>, '__doc__': None}\n",
            "{'name': 'Phone', 'price': 1000, 'quantity': 5}\n"
          ]
        }
      ]
    },
    {
      "cell_type": "code",
      "source": [
        "class Item:\n",
        "  pay_rate = 0.8\n",
        "  def __init__ (self, name: str, price: int, quantity=2):\n",
        "    # Run Validations to the received arguments\n",
        "     assert price >0,   f\"price {price} not greater than zero!\"\n",
        "     assert quantity >0,  f\"quantity {quantity} not greater than zero!\"\n",
        "    # Assign to self objects\n",
        "     self.name     = name\n",
        "     self.price    = price\n",
        "     self.quantity = quantity\n",
        "  def product (self):\n",
        "    return (self.price * self.quantity)\n",
        "  def discount(self):\n",
        "    self.price = self.price* self.pay_rate\n",
        "\n",
        "Item1 = Item(\"Laptop\",3500)\n",
        "print('Total price of all the laptops',Item1.product())\n",
        "Item1.discount()\n",
        "print(Item1.price)\n",
        "\n",
        "Item2 = Item(\"Speaker\",500)\n",
        "print('Total price of all the speakers',Item2.product())\n",
        "Item2.pay_rate = 0.7\n",
        "Item2.discount()\n",
        "print(Item2.price)\n"
      ],
      "metadata": {
        "colab": {
          "base_uri": "https://localhost:8080/"
        },
        "id": "zPTqpXf2VoXM",
        "outputId": "0cc0f394-1ba9-4e41-e1c5-de05b10495bf"
      },
      "execution_count": 58,
      "outputs": [
        {
          "output_type": "stream",
          "name": "stdout",
          "text": [
            "Total price of all the laptops 7000\n",
            "2800.0\n",
            "Total price of all the speakers 1000\n",
            "350.0\n"
          ]
        }
      ]
    },
    {
      "cell_type": "code",
      "source": [
        "class Item:\n",
        "  pay_rate = 0.8\n",
        "  all = []\n",
        "  def __init__ (self, name, price, quantity):\n",
        "    # Run Validations to the received arguments\n",
        "     assert price >0,   f\"price {price} not greater than zero!\"\n",
        "     assert quantity >0,  f\"quantity {quantity} not greater than zero!\"\n",
        "\n",
        "    # Assign to self objects\n",
        "     self.name     = name\n",
        "     self.price    = price\n",
        "     self.quantity = quantity\n",
        "\n",
        "    # Actions to execute\n",
        "     Item.all.append(self)\n",
        "\n",
        "  def product (self):\n",
        "    return (self.price * self.quantity)\n",
        "  def discount(self):\n",
        "    self.price = self.price* self.pay_rate\n",
        "\n",
        "Item1 = Item(\"Laptop\",3500,12)\n",
        "Item2 = Item(\"Speaker\",500,3)\n",
        "Item3 = Item(\"Headphone\",700,40)\n",
        "Item4 = Item(\"Phone\",4400,30)\n",
        "Item5 = Item(\"Watch\",100,10)\n",
        "\n",
        "for instance in Item.all:\n",
        "  print(instance.name)\n",
        "\n"
      ],
      "metadata": {
        "colab": {
          "base_uri": "https://localhost:8080/"
        },
        "id": "wi1_q9VaWNx-",
        "outputId": "1e8c48eb-fe0b-4ebf-8162-d80961714508"
      },
      "execution_count": 66,
      "outputs": [
        {
          "output_type": "stream",
          "name": "stdout",
          "text": [
            "Laptop\n",
            "Speaker\n",
            "Headphone\n",
            "Phone\n",
            "Watch\n"
          ]
        }
      ]
    },
    {
      "cell_type": "markdown",
      "source": [
        "Magic method _ _ repr _ _"
      ],
      "metadata": {
        "id": "Efs66noOaceM"
      }
    },
    {
      "cell_type": "code",
      "source": [
        "class Item:\n",
        "  pay_rate = 0.8\n",
        "  all = []\n",
        "  def __init__ (self, name, price, quantity):\n",
        "    # Run Validations to the received arguments\n",
        "     assert price >0,   f\"price {price} not greater than zero!\"\n",
        "     assert quantity >0,  f\"quantity {quantity} not greater than zero!\"\n",
        "\n",
        "    # Assign to self objects\n",
        "     self.name     = name\n",
        "     self.price    = price\n",
        "     self.quantity = quantity\n",
        "\n",
        "    # Actions to execute\n",
        "     Item.all.append(self)\n",
        "\n",
        "  def product (self):\n",
        "    return (self.price * self.quantity)\n",
        "  def discount(self):\n",
        "    self.price = self.price* self.pay_rate\n",
        "  def __repr__(self):\n",
        "    return f\"Item('{self.name}',{self.price},{self.quantity})\"\n",
        "\n",
        "Item1 = Item(\"Laptop\",3500,12)\n",
        "Item2 = Item(\"Speaker\",500,3)\n",
        "Item3 = Item(\"Headphone\",700,40)\n",
        "Item4 = Item(\"Phone\",4400,30)\n",
        "Item5 = Item(\"Watch\",100,10)\n",
        "\n",
        "print(Item.all)"
      ],
      "metadata": {
        "colab": {
          "base_uri": "https://localhost:8080/"
        },
        "id": "scbSkou_agbf",
        "outputId": "7bc802fa-26e9-4798-c20c-f8f97eeacd81"
      },
      "execution_count": 72,
      "outputs": [
        {
          "output_type": "stream",
          "name": "stdout",
          "text": [
            "[Item('Laptop',3500,12), Item('Speaker',500,3), Item('Headphone',700,40), Item('Phone',4400,30), Item('Watch',100,10)]\n"
          ]
        }
      ]
    },
    {
      "cell_type": "markdown",
      "source": [
        "Read from a CSV file - Instantiate from csv,\n",
        "Decorator,\n",
        "Class Method"
      ],
      "metadata": {
        "id": "CSBwdlvOcayk"
      }
    },
    {
      "cell_type": "code",
      "source": [
        "import csv\n",
        "\n",
        "class Item:\n",
        "  pay_rate = 0.8\n",
        "  all = []\n",
        "  def __init__ (self, name, price, quantity):\n",
        "    # Run Validations to the received arguments\n",
        "     assert price >0,   f\"price {price} not greater than zero!\"\n",
        "     assert quantity >0,  f\"quantity {quantity} not greater than zero!\"\n",
        "\n",
        "    # Assign to self objects\n",
        "     self.name     = name\n",
        "     self.price    = price\n",
        "     self.quantity = quantity\n",
        "\n",
        "    # Actions to execute\n",
        "     Item.all.append(self)\n",
        "\n",
        "  def product (self):\n",
        "    return (self.price * self.quantity)\n",
        "\n",
        "  def discount(self):\n",
        "    self.price = self.price* self.pay_rate\n",
        "\n",
        "  @classmethod\n",
        "  def instantiate_from_csv(cls):\n",
        "    with open('items.csv') as f:\n",
        "      reader = csv.DictReader(f)\n",
        "      items = list(reader)\n",
        "    for item in items:\n",
        "      print(item)\n",
        "  \n",
        "  def __repr__(self): \n",
        "    return f\"Item('{self.name}',{self.price},{self.quantity})\"\n",
        "\n",
        "Item.instantiate_from_csv()"
      ],
      "metadata": {
        "colab": {
          "base_uri": "https://localhost:8080/",
          "height": 329
        },
        "id": "vWuYRqcJceDI",
        "outputId": "f52fba59-1127-4db7-978e-556f837edf83"
      },
      "execution_count": 79,
      "outputs": [
        {
          "output_type": "error",
          "ename": "FileNotFoundError",
          "evalue": "ignored",
          "traceback": [
            "\u001b[0;31m---------------------------------------------------------------------------\u001b[0m",
            "\u001b[0;31mFileNotFoundError\u001b[0m                         Traceback (most recent call last)",
            "\u001b[0;32m<ipython-input-79-5241ad07749e>\u001b[0m in \u001b[0;36m<module>\u001b[0;34m\u001b[0m\n\u001b[1;32m     34\u001b[0m     \u001b[0;32mreturn\u001b[0m \u001b[0;34mf\"Item('{self.name}',{self.price},{self.quantity})\"\u001b[0m\u001b[0;34m\u001b[0m\u001b[0;34m\u001b[0m\u001b[0m\n\u001b[1;32m     35\u001b[0m \u001b[0;34m\u001b[0m\u001b[0m\n\u001b[0;32m---> 36\u001b[0;31m \u001b[0mItem\u001b[0m\u001b[0;34m.\u001b[0m\u001b[0minstantiate_from_csv\u001b[0m\u001b[0;34m(\u001b[0m\u001b[0;34m)\u001b[0m\u001b[0;34m\u001b[0m\u001b[0;34m\u001b[0m\u001b[0m\n\u001b[0m",
            "\u001b[0;32m<ipython-input-79-5241ad07749e>\u001b[0m in \u001b[0;36minstantiate_from_csv\u001b[0;34m(cls)\u001b[0m\n\u001b[1;32m     25\u001b[0m   \u001b[0;34m@\u001b[0m\u001b[0mclassmethod\u001b[0m\u001b[0;34m\u001b[0m\u001b[0;34m\u001b[0m\u001b[0m\n\u001b[1;32m     26\u001b[0m   \u001b[0;32mdef\u001b[0m \u001b[0minstantiate_from_csv\u001b[0m\u001b[0;34m(\u001b[0m\u001b[0mcls\u001b[0m\u001b[0;34m)\u001b[0m\u001b[0;34m:\u001b[0m\u001b[0;34m\u001b[0m\u001b[0;34m\u001b[0m\u001b[0m\n\u001b[0;32m---> 27\u001b[0;31m     \u001b[0;32mwith\u001b[0m \u001b[0mopen\u001b[0m\u001b[0;34m(\u001b[0m\u001b[0;34m'items.csv'\u001b[0m\u001b[0;34m)\u001b[0m \u001b[0;32mas\u001b[0m \u001b[0mf\u001b[0m\u001b[0;34m:\u001b[0m\u001b[0;34m\u001b[0m\u001b[0;34m\u001b[0m\u001b[0m\n\u001b[0m\u001b[1;32m     28\u001b[0m       \u001b[0mreader\u001b[0m \u001b[0;34m=\u001b[0m \u001b[0mcsv\u001b[0m\u001b[0;34m.\u001b[0m\u001b[0mDictReader\u001b[0m\u001b[0;34m(\u001b[0m\u001b[0mf\u001b[0m\u001b[0;34m)\u001b[0m\u001b[0;34m\u001b[0m\u001b[0;34m\u001b[0m\u001b[0m\n\u001b[1;32m     29\u001b[0m       \u001b[0mitems\u001b[0m \u001b[0;34m=\u001b[0m \u001b[0mlist\u001b[0m\u001b[0;34m(\u001b[0m\u001b[0mreader\u001b[0m\u001b[0;34m)\u001b[0m\u001b[0;34m\u001b[0m\u001b[0;34m\u001b[0m\u001b[0m\n",
            "\u001b[0;31mFileNotFoundError\u001b[0m: [Errno 2] No such file or directory: 'items.csv'"
          ]
        }
      ]
    }
  ]
}